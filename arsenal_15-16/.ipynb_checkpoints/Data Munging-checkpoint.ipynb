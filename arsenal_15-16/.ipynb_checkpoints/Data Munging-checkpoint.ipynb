{
 "cells": [
  {
   "cell_type": "code",
   "execution_count": 1,
   "metadata": {
    "collapsed": true
   },
   "outputs": [],
   "source": [
    "import numpy as np\n",
    "import pandas as pd\n",
    "import json"
   ]
  },
  {
   "cell_type": "markdown",
   "metadata": {},
   "source": [
    "### Standings"
   ]
  },
  {
   "cell_type": "code",
   "execution_count": 9,
   "metadata": {
    "collapsed": false
   },
   "outputs": [],
   "source": [
    "df = pd.read_csv('/Users/vijayv/Documents/Arsenal1516.csv', encoding=\"utf8\", index_col=0)\n",
    "standings_json = [item[1].to_dict() for item in df.iterrows()]"
   ]
  },
  {
   "cell_type": "code",
   "execution_count": 10,
   "metadata": {
    "collapsed": false,
    "scrolled": true
   },
   "outputs": [
    {
     "data": {
      "text/plain": [
       "[{'Date': '9 August 2015', 'Ground': 'H', 'Position': 20, 'Result': 'L'},\n",
       " {'Date': '16 August 2015', 'Ground': 'A', 'Position': 11, 'Result': 'W'},\n",
       " {'Date': '24 August 2015', 'Ground': 'H', 'Position': 9, 'Result': 'D'},\n",
       " {'Date': '29 August 2015', 'Ground': 'A', 'Position': 5, 'Result': 'W'},\n",
       " {'Date': '12 September 2015', 'Ground': 'H', 'Position': 3, 'Result': 'W'},\n",
       " {'Date': '19 September 2015', 'Ground': 'A', 'Position': 5, 'Result': 'L'},\n",
       " {'Date': '26 September 2015', 'Ground': 'A', 'Position': 4, 'Result': 'W'},\n",
       " {'Date': '4 October 2015', 'Ground': 'H', 'Position': 2, 'Result': 'W'},\n",
       " {'Date': '17 October 2015', 'Ground': 'A', 'Position': 2, 'Result': 'W'},\n",
       " {'Date': '24 October 2015', 'Ground': 'H', 'Position': 1, 'Result': 'W'},\n",
       " {'Date': '31 October 2015', 'Ground': 'A', 'Position': 2, 'Result': 'W'},\n",
       " {'Date': '8 November 2015', 'Ground': 'H', 'Position': 2, 'Result': 'D'},\n",
       " {'Date': '21 November 2015', 'Ground': 'A', 'Position': 4, 'Result': 'L'},\n",
       " {'Date': '29 November 2015', 'Ground': 'A', 'Position': 4, 'Result': 'D'},\n",
       " {'Date': '5 December 2015', 'Ground': 'H', 'Position': 2, 'Result': 'W'},\n",
       " {'Date': '13 December 2015', 'Ground': 'A', 'Position': 1, 'Result': 'W'},\n",
       " {'Date': '21 December 2015', 'Ground': 'H', 'Position': 2, 'Result': 'W'},\n",
       " {'Date': '26 December 2015', 'Ground': 'A', 'Position': 2, 'Result': 'L'},\n",
       " {'Date': '28 December 2015', 'Ground': 'H', 'Position': 1, 'Result': 'W'},\n",
       " {'Date': '2 January 2016', 'Ground': 'H', 'Position': 1, 'Result': 'W'},\n",
       " {'Date': '13 January 2016', 'Ground': 'A', 'Position': 1, 'Result': 'D'},\n",
       " {'Date': '17 January 2016', 'Ground': 'A', 'Position': 1, 'Result': 'D'},\n",
       " {'Date': '24 January 2016', 'Ground': 'H', 'Position': 3, 'Result': 'L'},\n",
       " {'Date': '2 February 2016', 'Ground': 'H', 'Position': 4, 'Result': 'D'},\n",
       " {'Date': '7 February 2016', 'Ground': 'A', 'Position': 3, 'Result': 'W'},\n",
       " {'Date': '14 February 2016', 'Ground': 'H', 'Position': 3, 'Result': 'W'},\n",
       " {'Date': '28 February 2016', 'Ground': 'A', 'Position': 3, 'Result': 'L'},\n",
       " {'Date': '2 March 2016', 'Ground': 'H', 'Position': 3, 'Result': 'L'},\n",
       " {'Date': '5 March 2016', 'Ground': 'A', 'Position': 3, 'Result': 'D'},\n",
       " {'Date': '19 March 2016', 'Ground': 'A', 'Position': 3, 'Result': 'W'},\n",
       " {'Date': '2 April 2016', 'Ground': 'H', 'Position': 3, 'Result': 'W'},\n",
       " {'Date': '9 April 2016', 'Ground': 'A', 'Position': 3, 'Result': 'D'},\n",
       " {'Date': '17 April 2016', 'Ground': 'H', 'Position': 4, 'Result': 'D'},\n",
       " {'Date': '21 April 2016', 'Ground': 'H', 'Position': 3, 'Result': 'W'},\n",
       " {'Date': '24 April 2016', 'Ground': 'A', 'Position': 4, 'Result': 'D'},\n",
       " {'Date': '30 April 2016', 'Ground': 'H', 'Position': 3, 'Result': 'W'},\n",
       " {'Date': '8 May 2016', 'Ground': 'A', 'Position': 3, 'Result': 'D'},\n",
       " {'Date': '15 May 2016', 'Ground': 'H', 'Position': 2, 'Result': 'W'}]"
      ]
     },
     "execution_count": 10,
     "metadata": {},
     "output_type": "execute_result"
    }
   ],
   "source": [
    "standings_json"
   ]
  },
  {
   "cell_type": "code",
   "execution_count": 12,
   "metadata": {
    "collapsed": false,
    "scrolled": true
   },
   "outputs": [
    {
     "ename": "FileNotFoundError",
     "evalue": "[Errno 2] No such file or directory: '~/code/vijayv.github.io/assets/data/standings.json'",
     "output_type": "error",
     "traceback": [
      "\u001b[0;31m---------------------------------------------------------------------------\u001b[0m",
      "\u001b[0;31mFileNotFoundError\u001b[0m                         Traceback (most recent call last)",
      "\u001b[0;32m<ipython-input-12-b70745ce32a2>\u001b[0m in \u001b[0;36m<module>\u001b[0;34m()\u001b[0m\n\u001b[0;32m----> 1\u001b[0;31m \u001b[0;32mwith\u001b[0m \u001b[0mopen\u001b[0m\u001b[0;34m(\u001b[0m\u001b[0;34m'~/code/vijayv.github.io/assets/data/standings.json'\u001b[0m\u001b[0;34m,\u001b[0m \u001b[0;34m'w'\u001b[0m\u001b[0;34m)\u001b[0m \u001b[0;32mas\u001b[0m \u001b[0moutfile\u001b[0m\u001b[0;34m:\u001b[0m\u001b[0;34m\u001b[0m\u001b[0m\n\u001b[0m\u001b[1;32m      2\u001b[0m     \u001b[0mjson\u001b[0m\u001b[0;34m.\u001b[0m\u001b[0mdumps\u001b[0m\u001b[0;34m(\u001b[0m\u001b[0mstandings_json\u001b[0m\u001b[0;34m,\u001b[0m \u001b[0moutfile\u001b[0m\u001b[0;34m)\u001b[0m\u001b[0;34m\u001b[0m\u001b[0m\n",
      "\u001b[0;31mFileNotFoundError\u001b[0m: [Errno 2] No such file or directory: '~/code/vijayv.github.io/assets/data/standings.json'"
     ]
    }
   ],
   "source": [
    "with open('~/code/vijayv.github.io/assets/data/standings.json', 'w') as outfile:\n",
    "    json.dumps(standings_json, outfile)"
   ]
  },
  {
   "cell_type": "code",
   "execution_count": null,
   "metadata": {
    "collapsed": true
   },
   "outputs": [],
   "source": []
  }
 ],
 "metadata": {
  "anaconda-cloud": {},
  "kernelspec": {
   "display_name": "Python [Root]",
   "language": "python",
   "name": "Python [Root]"
  },
  "language_info": {
   "codemirror_mode": {
    "name": "ipython",
    "version": 3
   },
   "file_extension": ".py",
   "mimetype": "text/x-python",
   "name": "python",
   "nbconvert_exporter": "python",
   "pygments_lexer": "ipython3",
   "version": "3.5.2"
  }
 },
 "nbformat": 4,
 "nbformat_minor": 0
}
