{
 "cells": [
  {
   "cell_type": "code",
   "execution_count": 1,
   "metadata": {
    "collapsed": true
   },
   "outputs": [],
   "source": [
    "import numpy as np\n",
    "import pandas as pd\n",
    "import json"
   ]
  },
  {
   "cell_type": "markdown",
   "metadata": {},
   "source": [
    "### Standings"
   ]
  },
  {
   "cell_type": "code",
   "execution_count": 15,
   "metadata": {
    "collapsed": false
   },
   "outputs": [],
   "source": [
    "df = pd.read_csv('/Users/vijayv/Documents/Arsenal1516.csv', encoding=\"utf8\", index_col=0)\n",
    "# standings_json = [item[1].to_json() for item in df.iterrows()]"
   ]
  },
  {
   "cell_type": "code",
   "execution_count": 25,
   "metadata": {
    "collapsed": false,
    "scrolled": true
   },
   "outputs": [],
   "source": [
    "with open(\"/Users/vijayv/code/vijayv.github.io/assets/data/standings.json\", \"w\") as outfile:\n",
    "    json.dumps(df.reset_index().to_json(orient=\"index\"), outfile)"
   ]
  },
  {
   "cell_type": "code",
   "execution_count": 26,
   "metadata": {
    "collapsed": false
   },
   "outputs": [
    {
     "data": {
      "text/plain": [
       "'{\"0\":{\"Match Day\":1,\"Date\":\"9 August 2015\",\"Ground\":\"H\",\"Result\":\"L\",\"Position\":20},\"1\":{\"Match Day\":2,\"Date\":\"16 August 2015\",\"Ground\":\"A\",\"Result\":\"W\",\"Position\":11},\"2\":{\"Match Day\":3,\"Date\":\"24 August 2015\",\"Ground\":\"H\",\"Result\":\"D\",\"Position\":9},\"3\":{\"Match Day\":4,\"Date\":\"29 August 2015\",\"Ground\":\"A\",\"Result\":\"W\",\"Position\":5},\"4\":{\"Match Day\":5,\"Date\":\"12 September 2015\",\"Ground\":\"H\",\"Result\":\"W\",\"Position\":3},\"5\":{\"Match Day\":6,\"Date\":\"19 September 2015\",\"Ground\":\"A\",\"Result\":\"L\",\"Position\":5},\"6\":{\"Match Day\":7,\"Date\":\"26 September 2015\",\"Ground\":\"A\",\"Result\":\"W\",\"Position\":4},\"7\":{\"Match Day\":8,\"Date\":\"4 October 2015\",\"Ground\":\"H\",\"Result\":\"W\",\"Position\":2},\"8\":{\"Match Day\":9,\"Date\":\"17 October 2015\",\"Ground\":\"A\",\"Result\":\"W\",\"Position\":2},\"9\":{\"Match Day\":10,\"Date\":\"24 October 2015\",\"Ground\":\"H\",\"Result\":\"W\",\"Position\":1},\"10\":{\"Match Day\":11,\"Date\":\"31 October 2015\",\"Ground\":\"A\",\"Result\":\"W\",\"Position\":2},\"11\":{\"Match Day\":12,\"Date\":\"8 November 2015\",\"Ground\":\"H\",\"Result\":\"D\",\"Position\":2},\"12\":{\"Match Day\":13,\"Date\":\"21 November 2015\",\"Ground\":\"A\",\"Result\":\"L\",\"Position\":4},\"13\":{\"Match Day\":14,\"Date\":\"29 November 2015\",\"Ground\":\"A\",\"Result\":\"D\",\"Position\":4},\"14\":{\"Match Day\":15,\"Date\":\"5 December 2015\",\"Ground\":\"H\",\"Result\":\"W\",\"Position\":2},\"15\":{\"Match Day\":16,\"Date\":\"13 December 2015\",\"Ground\":\"A\",\"Result\":\"W\",\"Position\":1},\"16\":{\"Match Day\":17,\"Date\":\"21 December 2015\",\"Ground\":\"H\",\"Result\":\"W\",\"Position\":2},\"17\":{\"Match Day\":18,\"Date\":\"26 December 2015\",\"Ground\":\"A\",\"Result\":\"L\",\"Position\":2},\"18\":{\"Match Day\":19,\"Date\":\"28 December 2015\",\"Ground\":\"H\",\"Result\":\"W\",\"Position\":1},\"19\":{\"Match Day\":20,\"Date\":\"2 January 2016\",\"Ground\":\"H\",\"Result\":\"W\",\"Position\":1},\"20\":{\"Match Day\":21,\"Date\":\"13 January 2016\",\"Ground\":\"A\",\"Result\":\"D\",\"Position\":1},\"21\":{\"Match Day\":22,\"Date\":\"17 January 2016\",\"Ground\":\"A\",\"Result\":\"D\",\"Position\":1},\"22\":{\"Match Day\":23,\"Date\":\"24 January 2016\",\"Ground\":\"H\",\"Result\":\"L\",\"Position\":3},\"23\":{\"Match Day\":24,\"Date\":\"2 February 2016\",\"Ground\":\"H\",\"Result\":\"D\",\"Position\":4},\"24\":{\"Match Day\":25,\"Date\":\"7 February 2016\",\"Ground\":\"A\",\"Result\":\"W\",\"Position\":3},\"25\":{\"Match Day\":26,\"Date\":\"14 February 2016\",\"Ground\":\"H\",\"Result\":\"W\",\"Position\":3},\"26\":{\"Match Day\":27,\"Date\":\"28 February 2016\",\"Ground\":\"A\",\"Result\":\"L\",\"Position\":3},\"27\":{\"Match Day\":28,\"Date\":\"2 March 2016\",\"Ground\":\"H\",\"Result\":\"L\",\"Position\":3},\"28\":{\"Match Day\":29,\"Date\":\"5 March 2016\",\"Ground\":\"A\",\"Result\":\"D\",\"Position\":3},\"29\":{\"Match Day\":30,\"Date\":\"19 March 2016\",\"Ground\":\"A\",\"Result\":\"W\",\"Position\":3},\"30\":{\"Match Day\":31,\"Date\":\"2 April 2016\",\"Ground\":\"H\",\"Result\":\"W\",\"Position\":3},\"31\":{\"Match Day\":32,\"Date\":\"9 April 2016\",\"Ground\":\"A\",\"Result\":\"D\",\"Position\":3},\"32\":{\"Match Day\":33,\"Date\":\"17 April 2016\",\"Ground\":\"H\",\"Result\":\"D\",\"Position\":4},\"33\":{\"Match Day\":34,\"Date\":\"21 April 2016\",\"Ground\":\"H\",\"Result\":\"W\",\"Position\":3},\"34\":{\"Match Day\":35,\"Date\":\"24 April 2016\",\"Ground\":\"A\",\"Result\":\"D\",\"Position\":4},\"35\":{\"Match Day\":36,\"Date\":\"30 April 2016\",\"Ground\":\"H\",\"Result\":\"W\",\"Position\":3},\"36\":{\"Match Day\":37,\"Date\":\"8 May 2016\",\"Ground\":\"A\",\"Result\":\"D\",\"Position\":3},\"37\":{\"Match Day\":38,\"Date\":\"15 May 2016\",\"Ground\":\"H\",\"Result\":\"W\",\"Position\":2}}'"
      ]
     },
     "execution_count": 26,
     "metadata": {},
     "output_type": "execute_result"
    }
   ],
   "source": [
    "df.reset_index().to_json(orient=\"index\")"
   ]
  },
  {
   "cell_type": "code",
   "execution_count": null,
   "metadata": {
    "collapsed": true
   },
   "outputs": [],
   "source": []
  }
 ],
 "metadata": {
  "anaconda-cloud": {},
  "kernelspec": {
   "display_name": "Python [Root]",
   "language": "python",
   "name": "Python [Root]"
  },
  "language_info": {
   "codemirror_mode": {
    "name": "ipython",
    "version": 3
   },
   "file_extension": ".py",
   "mimetype": "text/x-python",
   "name": "python",
   "nbconvert_exporter": "python",
   "pygments_lexer": "ipython3",
   "version": "3.5.2"
  }
 },
 "nbformat": 4,
 "nbformat_minor": 0
}
