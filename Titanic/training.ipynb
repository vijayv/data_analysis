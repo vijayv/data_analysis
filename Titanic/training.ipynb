{
 "metadata": {
  "name": "training.ipynb"
 },
 "nbformat": 3,
 "nbformat_minor": 0,
 "worksheets": [
  {
   "cells": [
    {
     "cell_type": "heading",
     "level": 1,
     "metadata": {},
     "source": [
      "Titanic"
     ]
    },
    {
     "cell_type": "heading",
     "level": 4,
     "metadata": {},
     "source": [
      "Import modules"
     ]
    },
    {
     "cell_type": "code",
     "collapsed": false,
     "input": [
      "import numpy as np, pandas as pd, os\n",
      "\n",
      "def getData(infile):\n",
      "    return pd.read_csv(infile)\n",
      "\n",
      "def genSubmissionFile(infile):\n",
      "    \n",
      "    from time import gmtime, strftime\n",
      "    \n",
      "    outfile = infile[['PassengerId','Survived']]\n",
      "    fname = \"mypythonsubmission\"\n",
      "    ftype = \".csv\"\n",
      "    curtime = strftime(\"%Y-%m-%d %M\", gmtime())\n",
      "    filename = fname + ' '+ curtime + ftype\n",
      "    \n",
      "    if os.path.isfile(filename):\n",
      "        print \"%s already exists\" % filename\n",
      "    else:\n",
      "        outfile.to_csv(filename, index = False)"
     ],
     "language": "python",
     "metadata": {},
     "outputs": [],
     "prompt_number": 70
    },
    {
     "cell_type": "heading",
     "level": 4,
     "metadata": {},
     "source": [
      "Read in training file"
     ]
    },
    {
     "cell_type": "code",
     "collapsed": false,
     "input": [
      "trainfile = os.path.join('train.csv')\n",
      "train = getData(trainfile)\n",
      "train = train.set_index('PassengerId')\n",
      "print train.head(3)"
     ],
     "language": "python",
     "metadata": {},
     "outputs": [
      {
       "output_type": "stream",
       "stream": "stdout",
       "text": [
        "             Survived  Pclass  \\\n",
        "PassengerId                     \n",
        "1                   0       3   \n",
        "2                   1       1   \n",
        "3                   1       3   \n",
        "\n",
        "                                                          Name     Sex  Age  \\\n",
        "PassengerId                                                                   \n",
        "1                                      Braund, Mr. Owen Harris    male   22   \n",
        "2            Cumings, Mrs. John Bradley (Florence Briggs Th...  female   38   \n",
        "3                                       Heikkinen, Miss. Laina  female   26   \n",
        "\n",
        "             SibSp  Parch            Ticket     Fare Cabin Embarked  \n",
        "PassengerId                                                          \n",
        "1                1      0         A/5 21171   7.2500   NaN        S  \n",
        "2                1      0          PC 17599  71.2833   C85        C  \n",
        "3                0      0  STON/O2. 3101282   7.9250   NaN        S  \n"
       ]
      }
     ],
     "prompt_number": 56
    },
    {
     "cell_type": "heading",
     "level": 2,
     "metadata": {},
     "source": [
      "Models:"
     ]
    },
    {
     "cell_type": "heading",
     "level": 4,
     "metadata": {},
     "source": [
      "Sex-Class Model"
     ]
    },
    {
     "cell_type": "code",
     "collapsed": false,
     "input": [
      "pvtClassSex = pd.pivot_table(train, values = 'Name', rows=['Sex','Pclass'], cols='Survived', aggfunc='count')\n",
      "pvtClassSex['Total Passengers'] = pvtClassSex[0] + pvtClassSex[1]\n",
      "pvtClassSex['class_sex_model'] = pvtClassSex[1] / pvtClassSex['Total Passengers'].astype('float')"
     ],
     "language": "python",
     "metadata": {},
     "outputs": [],
     "prompt_number": 57
    },
    {
     "cell_type": "code",
     "collapsed": false,
     "input": [
      "classSexModel = pvtClassSex['class_sex_model'].reset_index()\n",
      "print classSexModel.head()"
     ],
     "language": "python",
     "metadata": {},
     "outputs": [
      {
       "output_type": "stream",
       "stream": "stdout",
       "text": [
        "      Sex  Pclass  class_sex_model\n",
        "0  female       1         0.968085\n",
        "1  female       2         0.921053\n",
        "2  female       3         0.500000\n",
        "3    male       1         0.368852\n",
        "4    male       2         0.157407\n"
       ]
      }
     ],
     "prompt_number": 58
    },
    {
     "cell_type": "heading",
     "level": 5,
     "metadata": {},
     "source": [
      "Survival Rates by Sex and Class"
     ]
    },
    {
     "cell_type": "code",
     "collapsed": false,
     "input": [
      "print pvtClassSex"
     ],
     "language": "python",
     "metadata": {},
     "outputs": [
      {
       "output_type": "stream",
       "stream": "stdout",
       "text": [
        "Survived         0   1  Total Passengers  class_sex_model\n",
        "Sex    Pclass                                            \n",
        "female 1         3  91                94         0.968085\n",
        "       2         6  70                76         0.921053\n",
        "       3        72  72               144         0.500000\n",
        "male   1        77  45               122         0.368852\n",
        "       2        91  17               108         0.157407\n",
        "       3       300  47               347         0.135447\n"
       ]
      }
     ],
     "prompt_number": 59
    },
    {
     "cell_type": "heading",
     "level": 4,
     "metadata": {},
     "source": [
      "Boarding Location Model"
     ]
    },
    {
     "cell_type": "code",
     "collapsed": false,
     "input": [
      "pvtBoarding = pd.pivot_table(train, values = 'Name', rows = ['Embarked'], cols = 'Survived', aggfunc = 'count')\n",
      "pvtBoarding['Total Passengers'] = pvtBoarding[0] + pvtBoarding[1]\n",
      "pvtBoarding['boarding_model'] = pvtBoarding[1] / pvtBoarding['Total Passengers'].astype('float')"
     ],
     "language": "python",
     "metadata": {},
     "outputs": [],
     "prompt_number": 60
    },
    {
     "cell_type": "code",
     "collapsed": false,
     "input": [
      "boardingModel = pvtBoarding['boarding_model'].reset_index()\n",
      "print boardingModel.head()"
     ],
     "language": "python",
     "metadata": {},
     "outputs": [
      {
       "output_type": "stream",
       "stream": "stdout",
       "text": [
        "  Embarked  boarding_model\n",
        "0        C        0.553571\n",
        "1        Q        0.389610\n",
        "2        S        0.336957\n"
       ]
      }
     ],
     "prompt_number": 61
    },
    {
     "cell_type": "heading",
     "level": 4,
     "metadata": {},
     "source": [
      "Get Test Data"
     ]
    },
    {
     "cell_type": "code",
     "collapsed": false,
     "input": [
      "testfile = os.path.join('test.csv')\n",
      "test = getData(testfile)\n",
      "print test.head()"
     ],
     "language": "python",
     "metadata": {},
     "outputs": [
      {
       "output_type": "stream",
       "stream": "stdout",
       "text": [
        "   PassengerId  Pclass                                          Name     Sex  \\\n",
        "0          892       3                              Kelly, Mr. James    male   \n",
        "1          893       3              Wilkes, Mrs. James (Ellen Needs)  female   \n",
        "2          894       2                     Myles, Mr. Thomas Francis    male   \n",
        "3          895       3                              Wirz, Mr. Albert    male   \n",
        "4          896       3  Hirvonen, Mrs. Alexander (Helga E Lindqvist)  female   \n",
        "\n",
        "    Age  SibSp  Parch   Ticket     Fare Cabin Embarked  \n",
        "0  34.5      0      0   330911   7.8292   NaN        Q  \n",
        "1  47.0      1      0   363272   7.0000   NaN        S  \n",
        "2  62.0      0      0   240276   9.6875   NaN        Q  \n",
        "3  27.0      0      0   315154   8.6625   NaN        S  \n",
        "4  22.0      1      1  3101298  12.2875   NaN        S  \n"
       ]
      }
     ],
     "prompt_number": 62
    },
    {
     "cell_type": "heading",
     "level": 4,
     "metadata": {},
     "source": [
      "Apply models to test data"
     ]
    },
    {
     "cell_type": "code",
     "collapsed": false,
     "input": [
      "tmp = pd.merge(test, boardingModel, on='Embarked', how='left')\n",
      "tmp = pd.merge(tmp, classSexModel, on=['Sex','Pclass'], how='left')\n",
      "print tmp.head()"
     ],
     "language": "python",
     "metadata": {},
     "outputs": [
      {
       "output_type": "stream",
       "stream": "stdout",
       "text": [
        "   PassengerId  Pclass                      Name   Sex   Age  SibSp  Parch  \\\n",
        "0          892       3          Kelly, Mr. James  male  34.5      0      0   \n",
        "1          939       3  Shaughnessy, Mr. Patrick  male   NaN      0      0   \n",
        "2          947       3      Rice, Master. Albert  male  10.0      4      1   \n",
        "3          994       3        Foley, Mr. William  male   NaN      0      0   \n",
        "4          998       3       Buckley, Mr. Daniel  male  21.0      0      0   \n",
        "\n",
        "   Ticket     Fare Cabin Embarked  boarding_model  class_sex_model  \n",
        "0  330911   7.8292   NaN        Q         0.38961         0.135447  \n",
        "1  370374   7.7500   NaN        Q         0.38961         0.135447  \n",
        "2  382652  29.1250   NaN        Q         0.38961         0.135447  \n",
        "3  365235   7.7500   NaN        Q         0.38961         0.135447  \n",
        "4  330920   7.8208   NaN        Q         0.38961         0.135447  \n"
       ]
      }
     ],
     "prompt_number": 63
    },
    {
     "cell_type": "heading",
     "level": 4,
     "metadata": {},
     "source": [
      "Apply Overall Score to Test Data"
     ]
    },
    {
     "cell_type": "code",
     "collapsed": false,
     "input": [
      "tmp['overall_score']=tmp['boarding_model']+tmp['class_sex_model']"
     ],
     "language": "python",
     "metadata": {},
     "outputs": [],
     "prompt_number": 64
    },
    {
     "cell_type": "code",
     "collapsed": false,
     "input": [
      "print tmp.sort('overall_score', ascending = False).head(3)"
     ],
     "language": "python",
     "metadata": {},
     "outputs": [
      {
       "output_type": "stream",
       "stream": "stdout",
       "text": [
        "     PassengerId  Pclass                                          Name  \\\n",
        "324         1256       1  Harder, Mrs. George Achilles (Dorothy Annan)   \n",
        "316         1110       1  Widener, Mrs. George Dunton (Eleanor Elkins)   \n",
        "329         1294       1                Gibson, Miss. Dorothy Winifred   \n",
        "\n",
        "        Sex  Age  SibSp  Parch  Ticket      Fare Cabin Embarked  \\\n",
        "324  female   25      1      0   11765   55.4417   E50        C   \n",
        "316  female   50      1      1  113503  211.5000   C80        C   \n",
        "329  female   22      0      1  112378   59.4000   NaN        C   \n",
        "\n",
        "     boarding_model  class_sex_model  overall_score  \n",
        "324        0.553571         0.968085       1.521657  \n",
        "316        0.553571         0.968085       1.521657  \n",
        "329        0.553571         0.968085       1.521657  \n"
       ]
      }
     ],
     "prompt_number": 65
    },
    {
     "cell_type": "heading",
     "level": 4,
     "metadata": {},
     "source": [
      "Create survival threshold"
     ]
    },
    {
     "cell_type": "code",
     "collapsed": false,
     "input": [
      "surviveThreshold = np.median(tmp['overall_score'])\n",
      "tmp['Survived'] = (tmp['overall_score'] > surviveThreshold).astype(int)"
     ],
     "language": "python",
     "metadata": {},
     "outputs": [],
     "prompt_number": 66
    },
    {
     "cell_type": "code",
     "collapsed": false,
     "input": [
      "print tmp.head()"
     ],
     "language": "python",
     "metadata": {},
     "outputs": [
      {
       "output_type": "stream",
       "stream": "stdout",
       "text": [
        "   PassengerId  Pclass                      Name   Sex   Age  SibSp  Parch  \\\n",
        "0          892       3          Kelly, Mr. James  male  34.5      0      0   \n",
        "1          939       3  Shaughnessy, Mr. Patrick  male   NaN      0      0   \n",
        "2          947       3      Rice, Master. Albert  male  10.0      4      1   \n",
        "3          994       3        Foley, Mr. William  male   NaN      0      0   \n",
        "4          998       3       Buckley, Mr. Daniel  male  21.0      0      0   \n",
        "\n",
        "   Ticket     Fare Cabin Embarked  boarding_model  class_sex_model  \\\n",
        "0  330911   7.8292   NaN        Q         0.38961         0.135447   \n",
        "1  370374   7.7500   NaN        Q         0.38961         0.135447   \n",
        "2  382652  29.1250   NaN        Q         0.38961         0.135447   \n",
        "3  365235   7.7500   NaN        Q         0.38961         0.135447   \n",
        "4  330920   7.8208   NaN        Q         0.38961         0.135447   \n",
        "\n",
        "   overall_score  Survived  \n",
        "0       0.525057         0  \n",
        "1       0.525057         0  \n",
        "2       0.525057         0  \n",
        "3       0.525057         0  \n",
        "4       0.525057         0  \n"
       ]
      }
     ],
     "prompt_number": 67
    },
    {
     "cell_type": "heading",
     "level": 4,
     "metadata": {},
     "source": [
      "Generate Submission File"
     ]
    },
    {
     "cell_type": "code",
     "collapsed": false,
     "input": [
      "genSubmissionFile(tmp)"
     ],
     "language": "python",
     "metadata": {},
     "outputs": [],
     "prompt_number": 71
    },
    {
     "cell_type": "code",
     "collapsed": false,
     "input": [],
     "language": "python",
     "metadata": {},
     "outputs": []
    }
   ],
   "metadata": {}
  }
 ]
}